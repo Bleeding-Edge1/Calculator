{
  "cells": [
    {
      "cell_type": "code",
      "execution_count": 1,
      "metadata": {
        "id": "E3r0iAXsVkH5"
      },
      "outputs": [],
      "source": [
        "import numpy as np\n",
        "import torch as nn\n",
        "from torch.autograd import grad\n",
        "import matplotlib.pyplot as plt"
      ]
    },
    {
      "cell_type": "code",
      "execution_count": 2,
      "metadata": {
        "id": "Q09IQLmPVow4"
      },
      "outputs": [],
      "source": [
        "def getGrid(m, T):\n",
        "    x = nn.linspace(-1, 1, m, dtype = nn.float, requires_grad = True).reshape(m, 1, 1, 1).repeat(1, m, m, 1)\n",
        "    y = nn.linspace(-1, 1, m, dtype = nn.float, requires_grad = True).reshape(1, m, 1, 1).repeat(m, 1, m, 1)\n",
        "    t = nn.linspace(0, T, m, dtype = nn.float, requires_grad = True).reshape(1, 1, m, 1).repeat(m, m, 1, 1)\n",
        "    return nn.cat((x, y, t), dim = -1)"
      ]
    },
    {
      "cell_type": "code",
      "execution_count": 3,
      "metadata": {
        "id": "Om01xVAT4THF"
      },
      "outputs": [],
      "source": [
        "def getDPT(m, T):\n",
        "    x = nn.linspace(-1, 1, m, dtype = nn.float, requires_grad = True)\n",
        "    y = nn.linspace(-1, 1, m, dtype = nn.float, requires_grad = True)\n",
        "    t = nn.linspace(0, T, m, dtype = nn.float, requires_grad = True)\n",
        "    X, Y, T = nn.meshgrid(x, y, t, indexing = 'ij')\n",
        "    X1, Y1, T1 = X.flatten()[:, None], Y.flatten()[:, None], T.flatten()[:, None]\n",
        "    return nn.cat((X1, Y1, T1), 1)"
      ]
    },
    {
      "cell_type": "code",
      "source": [
        "getDPT(8,1)"
      ],
      "metadata": {
        "id": "Xd2iA464Kv1U",
        "outputId": "ea1f136d-3aff-4f65-a2b2-addaa029bcff",
        "colab": {
          "base_uri": "https://localhost:8080/"
        }
      },
      "execution_count": 87,
      "outputs": [
        {
          "output_type": "execute_result",
          "data": {
            "text/plain": [
              "tensor([[-1.0000, -1.0000,  0.0000],\n",
              "        [-1.0000, -1.0000,  0.1429],\n",
              "        [-1.0000, -1.0000,  0.2857],\n",
              "        ...,\n",
              "        [ 1.0000,  1.0000,  0.7143],\n",
              "        [ 1.0000,  1.0000,  0.8571],\n",
              "        [ 1.0000,  1.0000,  1.0000]], grad_fn=<CatBackward0>)"
            ]
          },
          "metadata": {},
          "execution_count": 87
        }
      ]
    },
    {
      "cell_type": "code",
      "execution_count": 4,
      "metadata": {
        "id": "ity2isG_4THF"
      },
      "outputs": [],
      "source": [
        "def gD(y, x, n):\n",
        "    if n == 0:\n",
        "        return y\n",
        "    else:\n",
        "        dy_dx = grad(y, x, nn.ones_like(y), create_graph=True, retain_graph=True, allow_unused=True)[0]\n",
        "        return gD(dy_dx, x, n - 1)"
      ]
    },
    {
      "cell_type": "code",
      "execution_count": 5,
      "metadata": {
        "id": "y3Gnk6YTVsIG"
      },
      "outputs": [],
      "source": [
        "def build_model(hidden_dimension, activation):\n",
        "    modules=[]\n",
        "    modules.append(nn.nn.Linear(3, hidden_dimension[0]))\n",
        "    modules.append(activation)\n",
        "    for i in range(len(hidden_dimension)-2):\n",
        "        modules.append(nn.nn.Linear(hidden_dimension[i], hidden_dimension[i+1]))\n",
        "        modules.append(activation)\n",
        "    modules.append(nn.nn.Linear(hidden_dimension[len(hidden_dimension)-2], hidden_dimension[len(hidden_dimension)-1]))\n",
        "    modules.append(nn.nn.Linear(hidden_dimension[-1], 1))\n",
        "    #modules.append(activation)\n",
        "    model = nn.nn.Sequential(*modules)\n",
        "    return model"
      ]
    },
    {
      "cell_type": "code",
      "execution_count": 45,
      "metadata": {
        "id": "o5rtV1Rk8sX7"
      },
      "outputs": [],
      "source": [
        "class PINN_solver:\n",
        "    \n",
        "    def __init__(self, dta_dim, mdl_dim, eps, gma, activation):\n",
        "        self.dta = getDPT(dta_dim[0], dta_dim[1])\n",
        "        self.dta_loss = getGrid(dta_dim[0], dta_dim[1])\n",
        "        self.model_phi = build_model(mdl_dim, activation)\n",
        "        self.model_psi = build_model(mdl_dim, activation)\n",
        "        self.alpha = -0.5\n",
        "        self.lbd = 1\n",
        "        self.g = 0        \n",
        "        self.eps = eps\n",
        "        self.gma = gma\n",
        "        self.df_loss = None\n",
        "        self.bc_loss = None\n",
        "        self.tm_loss = None\n",
        "        self.tl_loss = None\n",
        "        self.optimizer_phi = None\n",
        "        self.optimizer_psi = None\n",
        "        \n",
        "    def get_disp_phi(self, x, y, t):\n",
        "        return self.model_phi(nn.cat((x, y, t), 1))\n",
        "    \n",
        "    def get_disp_psi(self, x, y, t):\n",
        "        return self.model_psi(nn.cat((x, y, t), 1))\n",
        "    \n",
        "    def costFn(self):\n",
        "        x, y, t = self.dta[:, 0][:, None], self.dta[:, 1][:, None], self.dta[:, 2][:, None]\n",
        "        phi, psi = self.get_disp_phi(x, y, t), self.get_disp_psi(x, y, t)\n",
        "        df_loss = 0\n",
        "        df_loss += (gD(phi,t,1) - (gD(phi,x,2) - gD(phi,y,2)) - self.alpha * phi \\\n",
        "                 - phi*phi*phi + self.eps*phi*psi)**2\n",
        "        \n",
        "        df_loss += (gD(psi,t,1) + 2*self.lbd*(gD(psi,x,2) + gD(psi,y,2)) + \\\n",
        "                   self.lbd*(gD(psi,x,4) + gD(psi,y,4)) + (self.gma + self.lbd)*(psi) - \\\n",
        "                   self.g*(psi*psi) + psi*psi*psi + self.eps*phi*phi/2)**2\n",
        "        \n",
        "        df_loss = nn.sum(df_loss**2).view(1)\n",
        "\n",
        "        bc_loss = 0\n",
        "        lhs_dpts = self.dta_loss[0, :, :].reshape((-1, 3))\n",
        "        btm_dpts = self.dta_loss[:, 0, :].reshape((-1, 3))\n",
        "        rhs_dpts = self.dta_loss[-1, :, :].reshape((-1, 3))\n",
        "        top_dpts = self.dta_loss[:, -1, :].reshape((-1, 3))\n",
        "        \n",
        "        x_lhs, y_lhs, t_lhs = lhs_dpts[:, 0][:, None], lhs_dpts[:, 1][:, None], lhs_dpts[:, 2][:, None]\n",
        "        x_rhs, y_rhs, t_rhs = rhs_dpts[:, 0][:, None], rhs_dpts[:, 1][:, None], rhs_dpts[:, 2][:, None]\n",
        "        x_top, y_top, t_top = top_dpts[:, 0][:, None], top_dpts[:, 1][:, None], top_dpts[:, 2][:, None]\n",
        "        x_btm, y_btm, t_btm = btm_dpts[:, 0][:, None], btm_dpts[:, 1][:, None], btm_dpts[:, 2][:, None]\n",
        "        \n",
        "        bc_loss += (self.get_disp_phi(x_lhs, y_lhs, t_lhs) - self.get_disp_phi(x_rhs, y_rhs, t_rhs))**2\n",
        "        bc_loss += (self.get_disp_phi(x_top, y_top, t_top) - self.get_disp_phi(x_btm, y_btm, t_btm))**2\n",
        "        bc_loss += (self.get_disp_psi(x_lhs, y_lhs, t_lhs) - self.get_disp_psi(x_rhs, y_rhs, t_rhs))**2\n",
        "        bc_loss += (self.get_disp_psi(x_top, y_top, t_top) - self.get_disp_psi(x_btm, y_btm, t_btm))**2\n",
        "        bc_loss = nn.sum(bc_loss).view(1)\n",
        "\n",
        "        tm_loss = 0\n",
        "        tm_dpt = self.dta_loss[:, :, 0].reshape((-1, 3))\n",
        "        x, y, t = tm_dpt[:, 0][:, None], tm_dpt[:, 1][:, None], tm_dpt[:, 2][:, None]\n",
        "        #nr_dtb = nn.randn(tm_dpt.shape[0])[:, None]\n",
        "        tm_dpt_phi = self.get_disp_phi(x, y, t)\n",
        "        tm_dpt_psi = self.get_disp_psi(x, y, t)\n",
        "        #tm_loss += 5e-4*(nn.sum((tm_dpt_phi - nr_dtb)**2 + (tm_dpt_psi - nr_dtb)**2)).view(1)\n",
        "        tm_loss += (tm_dpt_phi.sum())**2 + ((tm_dpt_psi).sum())**2\n",
        "        #normal_dist = (1/(2*np.pi*0.1))*(nn.exp(-((x**2)/0.1 + (y**2)/0.1)))\n",
        "        #tm_loss += ((tm_dpt_phi - normal_dist)**2).sum() + ((tm_dpt_psi - normal_dist)**2).sum() \n",
        "        #tm_loss *= 10e-4\n",
        "        return df_loss, bc_loss, tm_loss\n",
        "    \n",
        "    def closure(self):\n",
        "        self.optimizer_phi.zero_grad()\n",
        "        self.optimizer_psi.zero_grad()\n",
        "        loss = self.costFn()\n",
        "        loss = loss[0] + loss[1] + loss[2]\n",
        "        loss.backward(retain_graph = True)\n",
        "        return loss\n",
        "    \n",
        "    def train(self, epochs, **kwargs): \n",
        "        self.optimizer_phi = nn.optim.LBFGS(self.model_phi.parameters(), **kwargs)\n",
        "        self.optimizer_psi = nn.optim.LBFGS(self.model_psi.parameters(), **kwargs)\n",
        "        \n",
        "        self.df_loss = np.zeros(epochs)\n",
        "        self.bc_loss = np.zeros(epochs)\n",
        "        self.tm_loss = np.zeros(epochs)\n",
        "        self.tl_loss = np.zeros(epochs)\n",
        "        \n",
        "        for i in range(epochs): \n",
        "            df_loss, bc_loss, tm_loss = self.costFn()\n",
        "            tl_loss = df_loss + bc_loss + tm_loss\n",
        "            self.df_loss[i] = df_loss\n",
        "            self.bc_loss[i] = bc_loss\n",
        "            self.tm_loss[i] = tm_loss\n",
        "            self.tl_loss[i] = tl_loss\n",
        "            self.printLoss(i, epochs)\n",
        "            self.optimizer_phi.step(self.closure)\n",
        "            self.optimizer_psi.step(self.closure)\n",
        "            \n",
        "\n",
        "    def printLoss(self, epoch, epochs, print_every = 5):\n",
        "        if epoch % print_every == 0:\n",
        "            print(\"Eqn Loss = \" + str(self.df_loss[epoch]) + \" BC Loss = \" + str(self.bc_loss[epoch]) + \\\n",
        "                  \" IC Loss = \" + str(self.tm_loss[epoch]) + \" Total Loss = \" + str(self.tl_loss[epoch]))"
      ]
    },
    {
      "cell_type": "code",
      "execution_count": 84,
      "metadata": {
        "id": "2SFYjBaM4THI"
      },
      "outputs": [],
      "source": [
        "pinnModel = PINN_solver([8, 1], [32,32,32], -1.5,  -1.5, nn.nn.Tanh())"
      ]
    },
    {
      "cell_type": "code",
      "execution_count": 85,
      "metadata": {
        "colab": {
          "base_uri": "https://localhost:8080/"
        },
        "id": "dKCOCcaS4THI",
        "outputId": "f0d0412d-0af8-4570-b3d4-e59545ffa364"
      },
      "outputs": [
        {
          "output_type": "stream",
          "name": "stdout",
          "text": [
            "Eqn Loss = 1.0895664691925049 BC Loss = 3.501828670501709 IC Loss = 136.20855712890625 Total Loss = 140.79995727539062\n",
            "Eqn Loss = 4.368637746665627e-06 BC Loss = 3.8721231248928234e-05 IC Loss = 2.686087263725767e-08 Total Loss = 4.311672819312662e-05\n",
            "Eqn Loss = 2.3623286438123614e-07 BC Loss = 8.971388524514623e-06 IC Loss = 1.1646624997752042e-08 Total Loss = 9.21926857699873e-06\n",
            "Eqn Loss = 2.4492905481565685e-07 BC Loss = 8.930033800425008e-06 IC Loss = 2.849713867658643e-11 Total Loss = 9.174990736937616e-06\n",
            "Eqn Loss = 2.4492905481565685e-07 BC Loss = 8.930033800425008e-06 IC Loss = 2.849713867658643e-11 Total Loss = 9.174990736937616e-06\n",
            "Eqn Loss = 2.4492905481565685e-07 BC Loss = 8.930033800425008e-06 IC Loss = 2.849713867658643e-11 Total Loss = 9.174990736937616e-06\n",
            "Eqn Loss = 2.4492905481565685e-07 BC Loss = 8.930033800425008e-06 IC Loss = 2.849713867658643e-11 Total Loss = 9.174990736937616e-06\n",
            "Eqn Loss = 2.4492905481565685e-07 BC Loss = 8.930033800425008e-06 IC Loss = 2.849713867658643e-11 Total Loss = 9.174990736937616e-06\n",
            "Eqn Loss = 2.4492905481565685e-07 BC Loss = 8.930033800425008e-06 IC Loss = 2.849713867658643e-11 Total Loss = 9.174990736937616e-06\n",
            "Eqn Loss = 2.4492905481565685e-07 BC Loss = 8.930033800425008e-06 IC Loss = 2.849713867658643e-11 Total Loss = 9.174990736937616e-06\n"
          ]
        }
      ],
      "source": [
        "a1 = pinnModel.train(50)"
      ]
    },
    {
      "cell_type": "code",
      "execution_count": 79,
      "metadata": {
        "id": "A1ttTIq5zBQr"
      },
      "outputs": [],
      "source": [
        "def plotData(model): \n",
        "    x = getDPT(8, 1)\n",
        "    m = int(np.cbrt(x.shape[0]))\n",
        "    phi, psi = model.get_disp_phi(x[:, 0][:, None], x[:, 1][:, None], x[:, 2][:, None]), model.get_disp_psi(x[:, 0][:, None], x[:, 1][:, None], x[:, 2][:, None])\n",
        "    phi, psi = nn.squeeze(phi), nn.squeeze(psi)\n",
        "    phi, psi = phi[1::m].reshape((m, m)), psi[1::m].reshape((m, m))\n",
        "    print(phi.shape)\n",
        "    print(psi)\n",
        "    phi_p, psi_p = nn.where(phi > 0, 1, 0), nn.where(psi > 0, 1, 0)\n",
        "    plt.imshow(phi_p.cpu(), cmap='Greys',  interpolation='nearest')\n",
        "    plt.show()\n",
        "    plt.imshow(psi_p.cpu(), cmap='Greys',  interpolation='nearest')    \n",
        "    plt.show()"
      ]
    },
    {
      "cell_type": "code",
      "execution_count": 86,
      "metadata": {
        "colab": {
          "base_uri": "https://localhost:8080/",
          "height": 1000
        },
        "id": "HIR1uz_oJucs",
        "outputId": "974401c8-d674-40eb-fe87-4bec6ea15d3e"
      },
      "outputs": [
        {
          "output_type": "stream",
          "name": "stdout",
          "text": [
            "torch.Size([12, 12])\n",
            "tensor([[ 1.5447e-04,  6.6070e-04,  1.0341e-03,  1.2752e-03,  1.3902e-03,\n",
            "          1.3906e-03,  1.2936e-03,  1.1200e-03,  8.9331e-04,  6.3752e-04,\n",
            "          3.7546e-04,  1.2682e-04],\n",
            "        [-1.3787e-04,  3.8153e-04,  7.6651e-04,  1.0172e-03,  1.1393e-03,\n",
            "          1.1445e-03,  1.0500e-03,  8.7723e-04,  6.5059e-04,  3.9499e-04,\n",
            "          1.3424e-04, -1.1103e-04],\n",
            "        [-3.6865e-04,  1.6233e-04,  5.5720e-04,  8.1556e-04,  9.4287e-04,\n",
            "          9.5074e-04,  8.5653e-04,  6.8236e-04,  4.5328e-04,  1.9532e-04,\n",
            "         -6.6719e-05, -3.1123e-04],\n",
            "        [-5.2976e-04,  1.0294e-05,  4.1266e-04,  6.7649e-04,  8.0685e-04,\n",
            "          8.1535e-04,  7.1944e-04,  5.4176e-04,  3.0808e-04,  4.5398e-05,\n",
            "         -2.2057e-04, -4.6725e-04],\n",
            "        [-6.1889e-04, -7.3417e-05,  3.3314e-04,  5.9959e-04,  7.3085e-04,\n",
            "          7.3829e-04,  6.3951e-04,  4.5730e-04,  2.1795e-04, -5.0998e-05,\n",
            "         -3.2297e-04, -5.7462e-04],\n",
            "        [-6.3833e-04, -9.2062e-05,  3.1461e-04,  5.8051e-04,  7.1047e-04,\n",
            "          7.1579e-04,  6.1393e-04,  4.2754e-04,  1.8285e-04, -9.2431e-05,\n",
            "         -3.7141e-04, -6.3026e-04],\n",
            "        [-5.9432e-04, -5.2071e-05,  3.5051e-04,  6.1267e-04,  7.3946e-04,\n",
            "          7.4225e-04,  6.3812e-04,  4.4917e-04,  2.0099e-04, -7.9273e-05,\n",
            "         -3.6505e-04, -6.3234e-04],\n",
            "        [-4.9706e-04,  3.7079e-05,  4.3216e-04,  6.8817e-04,  8.1080e-04,\n",
            "          8.1147e-04,  7.0685e-04,  5.1807e-04,  2.6947e-04, -1.3119e-05,\n",
            "         -3.0414e-04, -5.8017e-04],\n",
            "        [-3.6052e-04,  1.6283e-04,  5.4853e-04,  7.9757e-04,  9.1643e-04,\n",
            "          9.1666e-04,  8.1442e-04,  6.2960e-04,  3.8472e-04,  1.0363e-04,\n",
            "         -1.8992e-04, -4.7370e-04],\n",
            "        [-2.0224e-04,  3.0955e-04,  6.8608e-04,  9.2947e-04,  1.0469e-03,\n",
            "          1.0500e-03,  9.5431e-04,  7.7827e-04,  5.4214e-04,  2.6732e-04,\n",
            "         -2.4858e-05, -3.1405e-04],\n",
            "        [-4.1715e-05,  4.5961e-04,  8.2935e-04,  1.0705e-03,  1.1909e-03,\n",
            "          1.2020e-03,  1.1186e-03,  9.5721e-04,  7.3586e-04,  4.7302e-04,\n",
            "          1.8718e-04, -1.0368e-04],\n",
            "        [ 1.0142e-04,  5.9510e-04,  9.6224e-04,  1.2066e-03,  1.3362e-03,\n",
            "          1.3621e-03,  1.2979e-03,  1.1582e-03,  9.5840e-04,  7.1404e-04,\n",
            "          4.4057e-04,  1.5320e-04]], grad_fn=<ReshapeAliasBackward0>)\n"
          ]
        },
        {
          "output_type": "display_data",
          "data": {
            "text/plain": [
              "<Figure size 432x288 with 1 Axes>"
            ],
            "image/png": "[encoded data removed]"
          },
          "metadata": {
            "needs_background": "light"
          }
        },
        {
          "output_type": "display_data",
          "data": {
            "text/plain": [
              "<Figure size 432x288 with 1 Axes>"
            ],
            "image/png": "[encoded data removed]"
          },
          "metadata": {
            "needs_background": "light"
          }
        }
      ],
      "source": [
        "plotData(pinnModel)"
      ]
    },
    {
      "cell_type": "code",
      "execution_count": null,
      "metadata": {
        "id": "b_DVUauszBQt"
      },
      "outputs": [],
      "source": [
        ""
      ]
    }
  ],
  "metadata": {
    "colab": {
      "collapsed_sections": [],
      "name": "Project.ipynb",
      "provenance": []
    },
    "kernelspec": {
      "display_name": "Python 3",
      "language": "python",
      "name": "python3"
    },
    "language_info": {
      "codemirror_mode": {
        "name": "ipython",
        "version": 3
      },
      "file_extension": ".py",
      "mimetype": "text/x-python",
      "name": "python",
      "nbconvert_exporter": "python",
      "pygments_lexer": "ipython3",
      "version": "3.8.8"
    }
  },
  "nbformat": 4,
  "nbformat_minor": 0
}