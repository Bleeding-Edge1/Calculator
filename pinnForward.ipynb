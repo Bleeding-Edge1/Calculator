{
  "cells": [
    {
      "cell_type": "code",
      "execution_count": 1,
      "metadata": {
        "id": "E3r0iAXsVkH5"
      },
      "outputs": [],
      "source": [
        "import numpy as np\n",
        "import torch as nn\n",
        "from torch.autograd import grad\n",
        "import matplotlib.pyplot as plt"
      ]
    },
    {
      "cell_type": "code",
      "execution_count": 2,
      "metadata": {
        "id": "Q09IQLmPVow4"
      },
      "outputs": [],
      "source": [
        "def getGrid(m, T):\n",
        "    x = nn.linspace(-1, 1, m, dtype = nn.float, requires_grad = True).reshape(m, 1, 1, 1).repeat(1, m, m, 1)\n",
        "    y = nn.linspace(-1, 1, m, dtype = nn.float, requires_grad = True).reshape(1, m, 1, 1).repeat(m, 1, m, 1)\n",
        "    t = nn.linspace(0, T, m, dtype = nn.float, requires_grad = True).reshape(1, 1, m, 1).repeat(m, m, 1, 1)\n",
        "    return nn.cat((x, y, t), dim = -1)"
      ]
    },
    {
      "cell_type": "code",
      "execution_count": 3,
      "metadata": {
        "id": "Om01xVAT4THF"
      },
      "outputs": [],
      "source": [
        "def getDPT(m, T):\n",
        "    x = nn.linspace(-1, 1, m, dtype = nn.float, requires_grad = True)\n",
        "    y = nn.linspace(-1, 1, m, dtype = nn.float, requires_grad = True)\n",
        "    t = nn.linspace(0, T, m, dtype = nn.float, requires_grad = True)\n",
        "    X, Y, T = nn.meshgrid(x, y, t, indexing = 'ij')\n",
        "    X1, Y1, T1 = X.flatten()[:, None], Y.flatten()[:, None], T.flatten()[:, None]\n",
        "    return nn.cat((X1, Y1, T1), 1)"
      ]
    },
    {
      "cell_type": "code",
      "execution_count": 4,
      "metadata": {
        "id": "ity2isG_4THF"
      },
      "outputs": [],
      "source": [
        "def gD(y, x, n):\n",
        "    if n == 0:\n",
        "        return y\n",
        "    else:\n",
        "        dy_dx = grad(y, x, nn.ones_like(y), create_graph=True, retain_graph=True, allow_unused=True)[0]\n",
        "        return gD(dy_dx, x, n - 1)"
      ]
    },
    {
      "cell_type": "code",
      "execution_count": 5,
      "metadata": {
        "id": "y3Gnk6YTVsIG"
      },
      "outputs": [],
      "source": [
        "def build_model(hidden_dimension, activation):\n",
        "    modules=[]\n",
        "    modules.append(nn.nn.Linear(3, hidden_dimension[0]))\n",
        "    modules.append(activation)\n",
        "    for i in range(len(hidden_dimension)-2):\n",
        "        modules.append(nn.nn.Linear(hidden_dimension[i], hidden_dimension[i+1]))\n",
        "        modules.append(activation)\n",
        "    modules.append(nn.nn.Linear(hidden_dimension[len(hidden_dimension)-2], hidden_dimension[len(hidden_dimension)-1]))\n",
        "    modules.append(nn.nn.Linear(hidden_dimension[-1], 1))\n",
        "    #modules.append(activation)\n",
        "    model = nn.nn.Sequential(*modules)\n",
        "    return model"
      ]
    },
    {
      "cell_type": "code",
      "execution_count": 45,
      "metadata": {
        "id": "o5rtV1Rk8sX7"
      },
      "outputs": [],
      "source": [
        "class PINN_solver:\n",
        "    \n",
        "    def __init__(self, dta_dim, mdl_dim, eps, gma, activation):\n",
        "        self.dta = getDPT(dta_dim[0], dta_dim[1])\n",
        "        self.dta_loss = getGrid(dta_dim[0], dta_dim[1])\n",
        "        self.model_phi = build_model(mdl_dim, activation)\n",
        "        self.model_psi = build_model(mdl_dim, activation)\n",
        "        self.alpha = -0.5\n",
        "        self.lbd = 1\n",
        "        self.g = 0        \n",
        "        self.eps = eps\n",
        "        self.gma = gma\n",
        "        self.df_loss = None\n",
        "        self.bc_loss = None\n",
        "        self.tm_loss = None\n",
        "        self.tl_loss = None\n",
        "        self.optimizer_phi = None\n",
        "        self.optimizer_psi = None\n",
        "        \n",
        "    def get_disp_phi(self, x, y, t):\n",
        "        return self.model_phi(nn.cat((x, y, t), 1))\n",
        "    \n",
        "    def get_disp_psi(self, x, y, t):\n",
        "        return self.model_psi(nn.cat((x, y, t), 1))\n",
        "    \n",
        "    def costFn(self):\n",
        "        x, y, t = self.dta[:, 0][:, None], self.dta[:, 1][:, None], self.dta[:, 2][:, None]\n",
        "        phi, psi = self.get_disp_phi(x, y, t), self.get_disp_psi(x, y, t)\n",
        "        df_loss = 0\n",
        "        df_loss += (gD(phi,t,1) - (gD(phi,x,2) - gD(phi,y,2)) - self.alpha * phi \\\n",
        "                 - phi*phi*phi + self.eps*phi*psi)**2\n",
        "        \n",
        "        df_loss += (gD(psi,t,1) + 2*self.lbd*(gD(psi,x,2) + gD(psi,y,2)) + \\\n",
        "                   self.lbd*(gD(psi,x,4) + gD(psi,y,4)) + (self.gma + self.lbd)*(psi) - \\\n",
        "                   self.g*(psi*psi) + psi*psi*psi + self.eps*phi*phi/2)**2\n",
        "        \n",
        "        df_loss = nn.sum(df_loss**2).view(1)\n",
        "\n",
        "        bc_loss = 0\n",
        "        lhs_dpts = self.dta_loss[0, :, :].reshape((-1, 3))\n",
        "        btm_dpts = self.dta_loss[:, 0, :].reshape((-1, 3))\n",
        "        rhs_dpts = self.dta_loss[-1, :, :].reshape((-1, 3))\n",
        "        top_dpts = self.dta_loss[:, -1, :].reshape((-1, 3))\n",
        "        \n",
        "        x_lhs, y_lhs, t_lhs = lhs_dpts[:, 0][:, None], lhs_dpts[:, 1][:, None], lhs_dpts[:, 2][:, None]\n",
        "        x_rhs, y_rhs, t_rhs = rhs_dpts[:, 0][:, None], rhs_dpts[:, 1][:, None], rhs_dpts[:, 2][:, None]\n",
        "        x_top, y_top, t_top = top_dpts[:, 0][:, None], top_dpts[:, 1][:, None], top_dpts[:, 2][:, None]\n",
        "        x_btm, y_btm, t_btm = btm_dpts[:, 0][:, None], btm_dpts[:, 1][:, None], btm_dpts[:, 2][:, None]\n",
        "        \n",
        "        bc_loss += (self.get_disp_phi(x_lhs, y_lhs, t_lhs) - self.get_disp_phi(x_rhs, y_rhs, t_rhs))**2\n",
        "        bc_loss += (self.get_disp_phi(x_top, y_top, t_top) - self.get_disp_phi(x_btm, y_btm, t_btm))**2\n",
        "        bc_loss += (self.get_disp_psi(x_lhs, y_lhs, t_lhs) - self.get_disp_psi(x_rhs, y_rhs, t_rhs))**2\n",
        "        bc_loss += (self.get_disp_psi(x_top, y_top, t_top) - self.get_disp_psi(x_btm, y_btm, t_btm))**2\n",
        "        bc_loss = nn.sum(bc_loss).view(1)\n",
        "\n",
        "        tm_loss = 0\n",
        "        tm_dpt = self.dta_loss[:, :, 0].reshape((-1, 3))\n",
        "        x, y, t = tm_dpt[:, 0][:, None], tm_dpt[:, 1][:, None], tm_dpt[:, 2][:, None]\n",
        "        #nr_dtb = nn.randn(tm_dpt.shape[0])[:, None]\n",
        "        tm_dpt_phi = self.get_disp_phi(x, y, t)\n",
        "        tm_dpt_psi = self.get_disp_psi(x, y, t)\n",
        "        #tm_loss += 5e-4*(nn.sum((tm_dpt_phi - nr_dtb)**2 + (tm_dpt_psi - nr_dtb)**2)).view(1)\n",
        "        tm_loss += (tm_dpt_phi.sum())**2 + ((tm_dpt_psi).sum())**2\n",
        "        #normal_dist = (1/(2*np.pi*0.1))*(nn.exp(-((x**2)/0.1 + (y**2)/0.1)))\n",
        "        #tm_loss += ((tm_dpt_phi - normal_dist)**2).sum() + ((tm_dpt_psi - normal_dist)**2).sum() \n",
        "        #tm_loss *= 10e-4\n",
        "        return df_loss, bc_loss, tm_loss\n",
        "    \n",
        "    def closure(self):\n",
        "        self.optimizer_phi.zero_grad()\n",
        "        self.optimizer_psi.zero_grad()\n",
        "        loss = self.costFn()\n",
        "        loss = loss[0] + loss[1] + loss[2]\n",
        "        loss.backward(retain_graph = True)\n",
        "        return loss\n",
        "    \n",
        "    def train(self, epochs, **kwargs): \n",
        "        self.optimizer_phi = nn.optim.LBFGS(self.model_phi.parameters(), **kwargs)\n",
        "        self.optimizer_psi = nn.optim.LBFGS(self.model_psi.parameters(), **kwargs)\n",
        "        \n",
        "        self.df_loss = np.zeros(epochs)\n",
        "        self.bc_loss = np.zeros(epochs)\n",
        "        self.tm_loss = np.zeros(epochs)\n",
        "        self.tl_loss = np.zeros(epochs)\n",
        "        \n",
        "        for i in range(epochs): \n",
        "            df_loss, bc_loss, tm_loss = self.costFn()\n",
        "            tl_loss = df_loss + bc_loss + tm_loss\n",
        "            self.df_loss[i] = df_loss\n",
        "            self.bc_loss[i] = bc_loss\n",
        "            self.tm_loss[i] = tm_loss\n",
        "            self.tl_loss[i] = tl_loss\n",
        "            self.printLoss(i, epochs)\n",
        "            self.optimizer_phi.step(self.closure)\n",
        "            self.optimizer_psi.step(self.closure)\n",
        "            \n",
        "\n",
        "    def printLoss(self, epoch, epochs, print_every = 5):\n",
        "        if epoch % print_every == 0:\n",
        "            print(\"Eqn Loss = \" + str(self.df_loss[epoch]) + \" BC Loss = \" + str(self.bc_loss[epoch]) + \\\n",
        "                  \" IC Loss = \" + str(self.tm_loss[epoch]) + \" Total Loss = \" + str(self.tl_loss[epoch]))"
      ]
    },
    {
      "cell_type": "code",
      "execution_count": 67,
      "metadata": {
        "id": "2SFYjBaM4THI"
      },
      "outputs": [],
      "source": [
        "pinnModel = PINN_solver([10, 1], [32,32,20], -1.5,  -1.5, nn.nn.Tanh())"
      ]
    },
    {
      "cell_type": "code",
      "execution_count": 68,
      "metadata": {
        "id": "dKCOCcaS4THI",
        "outputId": "fee4843f-79a9-44b0-b653-a37364bb0756",
        "colab": {
          "base_uri": "https://localhost:8080/"
        }
      },
      "outputs": [
        {
          "output_type": "stream",
          "name": "stdout",
          "text": [
            "Eqn Loss = 0.17084626853466034 BC Loss = 1.9151599407196045 IC Loss = 572.0639038085938 Total Loss = 574.14990234375\n",
            "Eqn Loss = 4.699288183473982e-06 BC Loss = 4.574808554025367e-05 IC Loss = 1.8533355405914165e-10 Total Loss = 5.044755744165741e-05\n",
            "Eqn Loss = 4.699288183473982e-06 BC Loss = 4.574808554025367e-05 IC Loss = 1.8533355405914165e-10 Total Loss = 5.044755744165741e-05\n",
            "Eqn Loss = 4.699288183473982e-06 BC Loss = 4.574808554025367e-05 IC Loss = 1.8533355405914165e-10 Total Loss = 5.044755744165741e-05\n",
            "Eqn Loss = 4.699288183473982e-06 BC Loss = 4.574808554025367e-05 IC Loss = 1.8533355405914165e-10 Total Loss = 5.044755744165741e-05\n",
            "Eqn Loss = 4.699288183473982e-06 BC Loss = 4.574808554025367e-05 IC Loss = 1.8533355405914165e-10 Total Loss = 5.044755744165741e-05\n",
            "Eqn Loss = 4.699288183473982e-06 BC Loss = 4.574808554025367e-05 IC Loss = 1.8533355405914165e-10 Total Loss = 5.044755744165741e-05\n",
            "Eqn Loss = 4.699288183473982e-06 BC Loss = 4.574808554025367e-05 IC Loss = 1.8533355405914165e-10 Total Loss = 5.044755744165741e-05\n",
            "Eqn Loss = 4.699288183473982e-06 BC Loss = 4.574808554025367e-05 IC Loss = 1.8533355405914165e-10 Total Loss = 5.044755744165741e-05\n",
            "Eqn Loss = 4.699288183473982e-06 BC Loss = 4.574808554025367e-05 IC Loss = 1.8533355405914165e-10 Total Loss = 5.044755744165741e-05\n"
          ]
        }
      ],
      "source": [
        "a1 = pinnModel.train(50)"
      ]
    },
    {
      "cell_type": "code",
      "execution_count": 62,
      "metadata": {
        "id": "A1ttTIq5zBQr"
      },
      "outputs": [],
      "source": [
        "def plotData(model): \n",
        "    x = getDPT(8, 1)\n",
        "    m = int(np.cbrt(x.shape[0]))\n",
        "    phi, psi = model.get_disp_phi(x[:, 0][:, None], x[:, 1][:, None], x[:, 2][:, None]), model.get_disp_psi(x[:, 0][:, None], x[:, 1][:, None], x[:, 2][:, None])\n",
        "    phi, psi = nn.squeeze(phi), nn.squeeze(psi)\n",
        "    phi, psi = phi[1::m].reshape((m, m)), psi[1::m].reshape((m, m))\n",
        "    print(phi.shape)\n",
        "    print(psi)\n",
        "    phi_p, psi_p = nn.where(phi > 0, 1, 0), nn.where(psi > 0, 1, 0)\n",
        "    plt.imshow(phi_p.cpu(), cmap='Greys',  interpolation='nearest')\n",
        "    plt.show()\n",
        "    plt.imshow(psi_p.cpu(), cmap='Greys',  interpolation='nearest')    \n",
        "    plt.show()"
      ]
    },
    {
      "cell_type": "code",
      "execution_count": 69,
      "metadata": {
        "colab": {
          "base_uri": "https://localhost:8080/",
          "height": 826
        },
        "id": "HIR1uz_oJucs",
        "outputId": "dca3bf6a-f4fa-4f82-f065-3ec4bdcef381"
      },
      "outputs": [
        {
          "output_type": "stream",
          "name": "stdout",
          "text": [
            "torch.Size([8, 8])\n",
            "tensor([[ 2.0944e-03,  1.8689e-03,  1.5830e-03,  1.3166e-03,  1.1910e-03,\n",
            "          1.3279e-03,  1.8015e-03,  2.6077e-03],\n",
            "        [ 8.8132e-04,  4.2892e-04,  1.3435e-05, -3.0077e-04, -4.1830e-04,\n",
            "         -2.4702e-04,  2.6022e-04,  1.0800e-03],\n",
            "        [-4.8196e-05, -6.6487e-04, -1.1483e-03, -1.4554e-03, -1.5296e-03,\n",
            "         -1.3221e-03, -8.1871e-04, -5.4944e-05],\n",
            "        [-5.4448e-04, -1.2494e-03, -1.7443e-03, -2.0057e-03, -2.0189e-03,\n",
            "         -1.7835e-03, -1.3200e-03, -6.7111e-04],\n",
            "        [-5.2790e-04, -1.2484e-03, -1.7137e-03, -1.9124e-03, -1.8628e-03,\n",
            "         -1.6076e-03, -1.2014e-03, -6.9497e-04],\n",
            "        [-6.4839e-06, -6.8989e-04, -1.1071e-03, -1.2477e-03, -1.1458e-03,\n",
            "         -8.7383e-04, -5.1596e-04, -1.3764e-04],\n",
            "        [ 9.3519e-04,  3.1161e-04, -6.3665e-05, -1.6902e-04, -3.5582e-05,\n",
            "          2.5391e-04,  5.9352e-04,  8.9569e-04],\n",
            "        [ 2.1650e-03,  1.5932e-03,  1.2332e-03,  1.1267e-03,  1.2629e-03,\n",
            "          1.5682e-03,  1.9272e-03,  2.2272e-03]],\n",
            "       grad_fn=<ReshapeAliasBackward0>)\n"
          ]
        },
        {
          "output_type": "display_data",
          "data": {
            "text/plain": [
              "<Figure size 432x288 with 1 Axes>"
            ],
            "image/png": "[encoded data removed]"
          },
          "metadata": {
            "needs_background": "light"
          }
        },
        {
          "output_type": "display_data",
          "data": {
            "text/plain": [
              "<Figure size 432x288 with 1 Axes>"
            ],
            "image/png": "[encoded data removed]"
          },
          "metadata": {
            "needs_background": "light"
          }
        }
      ],
      "source": [
        "plotData(pinnModel)"
      ]
    },
    {
      "cell_type": "code",
      "execution_count": null,
      "metadata": {
        "id": "b_DVUauszBQt"
      },
      "outputs": [],
      "source": [
        ""
      ]
    }
  ],
  "metadata": {
    "colab": {
      "collapsed_sections": [],
      "name": "Project.ipynb",
      "provenance": []
    },
    "kernelspec": {
      "display_name": "Python 3",
      "language": "python",
      "name": "python3"
    },
    "language_info": {
      "codemirror_mode": {
        "name": "ipython",
        "version": 3
      },
      "file_extension": ".py",
      "mimetype": "text/x-python",
      "name": "python",
      "nbconvert_exporter": "python",
      "pygments_lexer": "ipython3",
      "version": "3.8.8"
    }
  },
  "nbformat": 4,
  "nbformat_minor": 0
}